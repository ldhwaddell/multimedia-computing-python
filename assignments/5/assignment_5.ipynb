{
 "cells": [
  {
   "cell_type": "markdown",
   "metadata": {},
   "source": [
    "## Imports\n"
   ]
  },
  {
   "cell_type": "code",
   "execution_count": 2,
   "metadata": {},
   "outputs": [],
   "source": [
    "from collections import Counter\n",
    "import os\n",
    "\n",
    "from nltk import word_tokenize\n",
    "from nltk.corpus import stopwords\n",
    "\n",
    "import speech_recognition as sr\n",
    "\n",
    "from pydub import AudioSegment\n",
    "from pydub.silence import split_on_silence"
   ]
  },
  {
   "cell_type": "markdown",
   "metadata": {},
   "source": [
    "## Question 1\n",
    "\n",
    "- Reads a large audio file that contains speech\n",
    "- Splits into several chunks of audio files (i.e., \"chunk_0.wav\", \"chunk_1.wav\", ...).\n"
   ]
  },
  {
   "cell_type": "code",
   "execution_count": 40,
   "metadata": {},
   "outputs": [
    {
     "name": "stdout",
     "output_type": "stream",
     "text": [
      "Making audio_chunks directory\n"
     ]
    }
   ],
   "source": [
    "f = \"given_files/alice_in_wonderlandch01.mp3\"\n",
    "\n",
    "audio_data = AudioSegment.from_file(f)\n",
    "\n",
    "min_silence_len = 1000\n",
    "silence_thresh = audio_data.dBFS - 20\n",
    "keep_silence = 100\n",
    "\n",
    "chunks = split_on_silence(\n",
    "    audio_data,\n",
    "    min_silence_len=min_silence_len,\n",
    "    silence_thresh=silence_thresh,\n",
    "    keep_silence=keep_silence,\n",
    ")\n",
    "\n",
    "if not os.path.exists(\"audio_chunks\"):\n",
    "    print(\"Making audio_chunks directory\")\n",
    "    os.makedirs(\"audio_chunks\")\n",
    "\n",
    "for i, chunk in enumerate(chunks):\n",
    "    chunk.export(f\"audio_chunks/chunk_{i}.wav\", format=\"wav\")"
   ]
  },
  {
   "cell_type": "markdown",
   "metadata": {},
   "source": [
    "## Question 2\n",
    "\n",
    "Transcribes the audio files and saves the transcribed text into corresponding text files (i.e., \"text_0.txt\", \"text_1.txt\", ...)\n"
   ]
  },
  {
   "cell_type": "code",
   "execution_count": 41,
   "metadata": {},
   "outputs": [
    {
     "name": "stdout",
     "output_type": "stream",
     "text": [
      "Making audio_texts directory\n"
     ]
    }
   ],
   "source": [
    "r = sr.Recognizer()\n",
    "\n",
    "audio_chunks = os.listdir(\"audio_chunks\")\n",
    "\n",
    "# Make sure chunks are sorted\n",
    "sorted_chunks = sorted(\n",
    "    audio_chunks, key=lambda c: int(c.split(\"_\")[-1].split(\".\")[0])\n",
    ")  # sort by file #\n",
    "\n",
    "if not os.path.exists(\"audio_texts\"):\n",
    "    print(\"Making audio_texts directory\")\n",
    "    os.makedirs(\"audio_texts\")\n",
    "\n",
    "for i, audio_chunk in enumerate(sorted_chunks):\n",
    "    with sr.AudioFile(f\"audio_chunks/{audio_chunk}\") as source:\n",
    "        audio = r.record(source)\n",
    "        text = r.recognize_google(audio)\n",
    "\n",
    "    with open(f\"audio_texts/text_{i}.txt\", \"w\") as f:\n",
    "        f.write(text)"
   ]
  },
  {
   "cell_type": "markdown",
   "metadata": {},
   "source": [
    "## Question 3\n",
    "\n",
    "Creates a BoW with their #s of occurrences in ALL the text files.\n",
    "Make sure to do this by converting all the words into either upper- or lower-case letters (i.e., any words with the same letters should be recognized as the same words regardless of the letter cases).\n"
   ]
  },
  {
   "cell_type": "code",
   "execution_count": 42,
   "metadata": {},
   "outputs": [
    {
     "name": "stdout",
     "output_type": "stream",
     "text": [
      "Counter({'the': 90, 'she': 79, 'to': 73, 'and': 64, 'it': 63, 'a': 54, 'was': 52, 'of': 43, 'i': 35, 'down': 30, 'that': 29, 'her': 26, 'alice': 25, 'in': 24, 'but': 22, 'very': 21, 'you': 19, 'for': 19, 'had': 19, 'on': 17, 'not': 16, 'little': 15, 'be': 14, 'so': 14, 'way': 14, 'as': 14, 'out': 13, 'up': 13, 'this': 13, 'me': 13, 'herself': 13, 'with': 12, 'there': 12, 'at': 12, 'like': 11, 'think': 11, 'all': 11, 'if': 10, 'see': 10, 'no': 10, 'or': 10, 'what': 10, 'when': 10, 'into': 9, 'how': 9, 'could': 9, 'time': 9, 'which': 9, \"'s\": 9, 'one': 9, 'rabbit': 9, 'about': 8, 'would': 8, 'were': 8, 'by': 8, 'do': 8, 'door': 7, 'found': 7, 'get': 7, 'is': 7, 'nothing': 7, 'much': 6, 'through': 6, 'went': 6, 'before': 6, 'said': 6, 'say': 6, 'going': 6, \"'ll\": 6, 'they': 6, 'off': 6, 'wonder': 6, 'then': 6, 'my': 5, 'use': 5, 'know': 5, 'things': 5, 'table': 5, 'key': 5, 'too': 5, 'never': 5, 'tried': 5, 'thought': 5, 'suddenly': 5, 'did': 5, 'shall': 5, 'either': 5, \"n't\": 5, 'looked': 4, 'garden': 4, 'ever': 4, 'head': 4, 'oh': 4, 'might': 4, 'any': 4, 'people': 4, 'bottle': 4, 'first': 4, 'marked': 4, 'got': 4, 'long': 4, 'once': 4, 'now': 4, 'after': 4, 'quite': 4, 'right': 4, 'again': 4, 'fall': 4, 'eat': 4, 'small': 3, 'passage': 3, 'hole': 3, 'dark': 3, 'hall': 3, 'even': 3, 'go': 3, 'dot': 3, 'have': 3, 'seemed': 3, 'book': 3, 'here': 3, 'words': 3, 'drink': 3, 'large': 3, 'well': 3, 'look': 3, 'poison': 3, 'nice': 3, 'remember': 3, 'them': 3, 'such': 3, 'hot': 3, 'from': 3, 'however': 3, 'sort': 3, 'soon': 3, 'come': 3, 'rather': 3, 'good': 3, 'trying': 3, 'having': 3, 'golden': 3, 'glass': 3, 'size': 3, 'end': 3, 'candle': 3, 'seen': 3, 'moment': 3, 'pictures': 3, 'put': 3, 'fell': 3, 'getting': 3, 'hear': 3, 'dear': 3, 'late': 3, 'over': 3, 'just': 3, 'under': 3, 'came': 3, 'upon': 3, 'open': 2, 'larger': 2, 'saw': 2, 'among': 2, 'those': 2, 'wish': 2, 'only': 2, 'begin': 2, 'many': 2, 'happened': 2, 'begun': 2, 'few': 2, 'back': 2, 'find': 2, 'another': 2, 'rate': 2, 'rules': 2, 'shutting': 2, 'beautifully': 2, 'are': 2, 'curious': 2, 'must': 2, 'hurry': 2, 'whether': 2, 'several': 2, 'other': 2, 'their': 2, 'forgotten': 2, 'finding': 2, 'finish': 2, 'generally': 2, 'though': 2, 'sometimes': 2, 'eyes': 2, 'box': 2, 'own': 2, 'ears': 2, 'two': 2, 'poor': 2, 'make': 2, 'while': 2, 'reach': 2, 'tired': 2, 'thing': 2, 'inches': 2, 'high': 2, 'felt': 2, 'should': 2, 'fancy': 2, 'considering': 2, 'falling': 2, 'happen': 2, 'anything': 2, 'cupboards': 2, 'took': 2, 'jar': 2, 'passed': 2, 'sister': 2, 'mind': 2, 'made': 2, 'feel': 2, 'sleepy': 2, 'stupid': 2, 'white': 2, 'ran': 2, 'close': 2, 'watch': 2, 'waistcoat': 2, 'pocket': 2, 'feet': 2, 'across': 2, 'home': 2, 'top': 2, 'an': 2, \"'ve\": 2, 'somewhere': 2, 'earth': 2, 'still': 2, 'latitude': 2, 'longitude': 2, 'ask': 2, 'air': 2, 'began': 2, 'bat': 2, 'cats': 2, 'bats': 2, 'saying': 2, 'bit': 2, 'turned': 2, 'corner': 2, 'behind': 2, 'doors': 2, 'around': 2, 'makes': 2, 'grow': 2, 'can': 2, 'happens': 2, 'cake': 2, 'led': 1, 'than': 1, 'rat': 1, 'knelt': 1, 'along': 1, 'loveliest': 1, 'longed': 1, 'wander': 1, 'beds': 1, 'bright': 1, 'flowers': 1, 'cool': 1, 'fountains': 1, 'doorway': 1, 'shoulders': 1, 'shut': 1, 'telescope': 1, 'lately': 1, 'deed': 1, 'really': 1, 'impossible': 1, 'waiting': 1, 'half': 1, 'hoping': 1, 'telescopes': 1, 'certainly': 1, 'round': 1, 'neck': 1, 'paper': 1, 'label': 1, 'printed': 1, 'letters': 1, 'feelings': 1, 'telus': 1, 'wise': 1, 'read': 1, 'histories': 1, 'children': 1, 'who': 1, 'burnt': 1, 'eaten': 1, 'wild': 1, 'beasts': 1, 'unpleasant': 1, 'because': 1, 'simple': 1, 'friends': 1, 'taught': 1, 'red': 1, 'poker': 1, 'will': 1, 'burn': 1, 'hold': 1, 'cut': 1, 'your': 1, 'finger': 1, 'deeply': 1, 'knife': 1, 'usually': 1, 'bleeds': 1, 'almost': 1, 'certain': 1, 'disagree': 1, 'sooner': 1, 'later': 1, 'ventured': 1, 'taste': 1, 'fact': 1, 'mixed': 1, 'flavor': 1, 'cherry': 1, 'custard': 1, 'pineapple': 1, 'roast': 1, 'turkey': 1, 'buttered': 1, 'toast': 1, 'crying': 1, 'sharply': 1, 'advise': 1, 'leave': 1, 'minute': 1, 'gave': 1, 'advice': 1, 'seldom': 1, 'followed': 1, 'scolded': 1, 'severely': 1, 'bring': 1, 'tears': 1, 'remembered': 1, 'cheated': 1, 'game': 1, 'croquet': 1, 'playing': 1, 'against': 1, 'child': 1, 'fond': 1, 'pretending': 1, 'pretend': 1, 'why': 1, 'hardly': 1, 'enough': 1, 'left': 1, 'respectable': 1, 'person': 1, 'more': 1, 'decided': 1, 'last': 1, 'four': 1, 'possibly': 1, 'plainly': 1, 'best': 1, 'climb': 1, 'legs': 1, 'slippery': 1, 'sat': 1, 'cried': 1, 'indeed': 1, '10': 1, 'face': 1, 'brightened': 1, 'lovely': 1, 'waited': 1, 'minutes': 1, 'shrink': 1, 'further': 1, 'nervous': 1, 'together': 1, 'flame': 1, 'blown': 1, 'world': 1, 'straight': 1, 'tunnel': 1, 'some': 1, 'dipped': 1, 'stopping': 1, 'deep': 1, 'plenty': 1, 'next': 1, 'coming': 1, 'noticed': 1, 'filled': 1, 'bookshelves': 1, 'maps': 1, 'hung': 1, 'pegs': 1, 'shelves': 1, 'labeled': 1, 'orange': 1, 'marmalade': 1, 'great': 1, 'disappointment': 1, 'empty': 1, 'drop': 1, 'fear': 1, 'killing': 1, 'somebody': 1, 'beginning': 1, 'sitting': 1, 'bank': 1, 'twice': 1, 'peeped': 1, 'reading': 1, 'conversations': 1, 'without': 1, 'conversation': 1, 'day': 1, 'pleasure': 1, 'making': 1, 'daisy': 1, 'chain': 1, 'worth': 1, 'trouble': 1, 'picking': 1, 'daisies': 1, 'pink': 1, 'remarkable': 1, 'nor': 1, 'itself': 1, 'afterwards': 1, 'occurred': 1, 'ought': 1, 'wondered': 1, 'natural': 1, 'actually': 1, 'his': 1, 'started': 1, 'flashed': 1, 'take': 1, 'burning': 1, 'curiosity': 1, 'field': 1, 'fortunately': 1, 'pop': 1, 'wonderland': 1, 'lewis': 1, 'carroll': 1, 'chapter': 1, '1': 1, 'wow': 1, 'tumbling': 1, 'downstairs': 1, 'brave': 1, 'house': 1, 'likely': 1, 'true': 1, 'miles': 1, 'fallen': 1, 'aloud': 1, 'near': 1, 'center': 1, 'let': 1, '4000': 1, 'learned': 1, 'lessons': 1, 'school': 1, 'room': 1, 'opportunity': 1, 'showing': 1, 'knowledge': 1, 'listen': 1, 'practice': 1, 'yes': 1, 'distance': 1, 'idea': 1, 'grande': 1, 'glad': 1, 'listening': 1, 'sound': 1, 'word': 1, 'name': 1, 'country': 1, 'please': 1, \"ma'am\": 1, 'new': 1, 'zealand': 1, 'australia': 1, 'curtsy': 1, 'spoke': 1, 'curtsying': 1, \"'re\": 1, 'manage': 1, 'ignorant': 1, 'girl': 1, 'asking': 1, 'perhaps': 1, 'written': 1, 'else': 1, 'allison': 1, 'talking': 1, 'dino': 1, 'miss': 1, 'tonight': 1, 'diana': 1, 'cat': 1, 'hope': 1, 'saucer': 1, 'milk': 1, 'tea': 1, 'dynamite': 1, 'mice': 1, \"'m\": 1, 'afraid': 1, 'catch': 1, 'mouse': 1, 'dreamy': 1, 'katie': 1, 'answer': 1, 'question': 1, 'matter': 1, 'dozing': 1, 'dream': 1, 'walking': 1, 'hand-in-hand': 1, 'dinah': 1, 'earnestly': 1, 'tell': 1, 'truth': 1, 'thump': 1, 'heap': 1, 'sticks': 1, 'dry': 1, 'leaves': 1, 'presently': 1, 'funny': 1, 'seem': 1, 'walk': 1, 'heads': 1, 'downward': 1, 'timothy': 1, 'hurt': 1, 'jumped': 1, 'overhead': 1, 'inside': 1, 'hurrying': 1, 'lost': 1, 'wind': 1, 'whiskers': 1, 'longer': 1, 'road': 1, 'lit': 1, 'roll': 1, 'lamps': 1, 'hanging': 1, 'roof': 1, 'locked': 1, 'been': 1, 'side': 1, 'every': 1, 'walked': 1, 'sadly': 1, 'middle': 1, 'wondering': 1, 'three-legged': 1, 'solid': 1, 'except': 1, 'tiny': 1, 'alas': 1, 'locks': 1, 'second': 1, 'low': 1, 'curtain': 1, 'notice': 1, '15': 1, 'smaller': 1, 'creep': 1, 'care': 1, 'ate': 1, 'anxiously': 1, 'holding': 1, 'hand': 1, 'growing': 1, 'surprised': 1, 'remained': 1, 'same': 1, 'sure': 1, 'eats': 1, 'expecting': 1, 'dull': 1, 'life': 1, 'common': 1, 'set': 1, 'work': 1, 'lying': 1, 'opened': 1, 'current': 1, 'bread': 1, 'loreena': 1, 'montgomery': 1, 'web': 1, 'fcit': 1, 'usf.edu': 1})\n"
     ]
    }
   ],
   "source": [
    "BoW = Counter()\n",
    "\n",
    "audio_texts = os.listdir(\"audio_texts\")\n",
    "\n",
    "for i, audio_text in enumerate(audio_texts):\n",
    "    with open(f\"audio_texts/{audio_text}\", \"r\") as f:\n",
    "        text = f.read()\n",
    "        # Make all lower tokens case\n",
    "        tokens = [word.lower() for word in word_tokenize(text)]\n",
    "\n",
    "        BoW.update(tokens)\n",
    "\n",
    "print(BoW)"
   ]
  },
  {
   "cell_type": "markdown",
   "metadata": {},
   "source": [
    "## Question 4\n",
    "\n",
    "Removes any words in the BoW that:\n",
    "\n",
    "- are punctuations\n",
    "- are stopwords including separate abbreviations [\"n't\",\"'ll\",\"'s\"]\n",
    "- Appear less than 5 times in all the corpora.\n"
   ]
  },
  {
   "cell_type": "code",
   "execution_count": 43,
   "metadata": {},
   "outputs": [
    {
     "name": "stdout",
     "output_type": "stream",
     "text": [
      "[('alice', 25), ('little', 15), ('way', 14), ('like', 11), ('think', 11), ('see', 10), ('could', 9), ('time', 9), ('one', 9), ('rabbit', 9), ('would', 8), ('door', 7), ('found', 7), ('get', 7), ('nothing', 7), ('much', 6), ('went', 6), ('said', 6), ('say', 6), ('going', 6), ('wonder', 6), ('use', 5), ('know', 5), ('things', 5), ('table', 5), ('key', 5), ('never', 5), ('tried', 5), ('thought', 5), ('suddenly', 5), ('shall', 5), ('either', 5)]\n"
     ]
    }
   ],
   "source": [
    "# No need to remove punctuation\n",
    "\n",
    "stop_words = stopwords.words(\"english\")\n",
    "\n",
    "additional_words = [\"n't\", \"'ll\", \"'s\"]\n",
    "\n",
    "# Remove stopwords including additional ones\n",
    "stop_words = set(stop_words).union(additional_words)\n",
    "BoW = Counter({word: freq for word, freq in BoW.items() if word not in stop_words})\n",
    "\n",
    "# Remove words with a frequency of less than 5\n",
    "BoW = Counter({word: freq for word, freq in BoW.items() if freq >= 5})\n",
    "\n",
    "# Convert the BoW to a list and sort by frquencies\n",
    "BoW = sorted(BoW.items(), key=lambda word: word[1], reverse=True)\n",
    "\n",
    "print(BoW)"
   ]
  },
  {
   "cell_type": "markdown",
   "metadata": {},
   "source": [
    "## Question 5\n",
    "\n",
    "Run the Huffman encoding on the words in the BoW.\n"
   ]
  },
  {
   "cell_type": "code",
   "execution_count": 44,
   "metadata": {},
   "outputs": [],
   "source": [
    "## Helper code to create the encoding. Same as submitted in the bonus quiz\n",
    "\n",
    "\n",
    "# This code was taken from \"rec_nov20_2023\" and\n",
    "# https://www.programiz.com/dsa/huffman-coding\n",
    "# It is slightly modified so that it works with python and numpy strings\n",
    "class TreeNode(object):\n",
    "    def __init__(self, left=None, right=None):\n",
    "        self.left = left\n",
    "        self.right = right\n",
    "\n",
    "    def children(self):\n",
    "        return (self.left, self.right)\n",
    "\n",
    "\n",
    "# Function to generate the nodes from the Bag of Words\n",
    "def generate_nodes(BoW):\n",
    "    BoW_copy = list(BoW)\n",
    "    while len(BoW_copy) > 1:\n",
    "        key1, c1 = BoW_copy.pop()\n",
    "        key2, c2 = BoW_copy.pop()\n",
    "\n",
    "        node = TreeNode(key1, key2)\n",
    "        BoW_copy.append((node, c1 + c2))\n",
    "\n",
    "        BoW_copy = sorted(BoW_copy, key=lambda w: w[1], reverse=True)\n",
    "    return BoW_copy\n",
    "\n",
    "\n",
    "# Main function implementing huffman coding\n",
    "def huffman_code_tree(node, left=True, binString=\"\"):\n",
    "    # Play nice with numpy\n",
    "    if type(node) == str:\n",
    "        return {node: binString}\n",
    "\n",
    "    (l, r) = node.children()\n",
    "    d = dict()\n",
    "    d.update(huffman_code_tree(l, True, binString + \"0\"))\n",
    "    d.update(huffman_code_tree(r, False, binString + \"1\"))\n",
    "    return d"
   ]
  },
  {
   "cell_type": "code",
   "execution_count": 45,
   "metadata": {},
   "outputs": [
    {
     "name": "stdout",
     "output_type": "stream",
     "text": [
      "Word       Bits         Freq\n",
      "----------------------------\n",
      "alice      010            25\n",
      "little     1001           15\n",
      "way        0111           14\n",
      "like       0000           11\n",
      "think      11111          11\n",
      "see        11001          10\n",
      "could      10101           9\n",
      "time       10100           9\n",
      "one        10111           9\n",
      "rabbit     10110           9\n",
      "would      10001           8\n",
      "door       10000           7\n",
      "found      01101           7\n",
      "get        01100           7\n",
      "nothing    00111           7\n",
      "much       00110           6\n",
      "went       00011           6\n",
      "said       00010           6\n",
      "say        00101           6\n",
      "going      00100           6\n",
      "wonder     111101          6\n",
      "use        111100          5\n",
      "know       111001          5\n",
      "things     111000          5\n",
      "table      111011          5\n",
      "key        111010          5\n",
      "never      110101          5\n",
      "tried      110100          5\n",
      "thought    110111          5\n",
      "suddenly   110110          5\n",
      "shall      110001          5\n",
      "either     110000          5\n"
     ]
    }
   ],
   "source": [
    "nodes = generate_nodes(BoW)\n",
    "\n",
    "huffman_code = huffman_code_tree(nodes[0][0])\n",
    "\n",
    "print(\"Word       Bits         Freq\")\n",
    "print(\"----------------------------\")\n",
    "for word, frequency in BoW:\n",
    "    bits = huffman_code[word]\n",
    "    print(f\"{word:8}   {bits:10}   {frequency:4}\")"
   ]
  },
  {
   "cell_type": "markdown",
   "metadata": {},
   "source": [
    "## Questions 6\n",
    "\n",
    "- Asks for one of the codes to be used to use the corresponding word as a search key.\n",
    "- Search the corpora and display all the texts that contain the corresponding word.\n"
   ]
  },
  {
   "cell_type": "code",
   "execution_count": 46,
   "metadata": {},
   "outputs": [],
   "source": [
    "# Helper functions\n",
    "def find_by_bits(key):\n",
    "    target = [w for w in huffman_code if huffman_code[w] == key]\n",
    "\n",
    "    if target:\n",
    "        target = target[0]\n",
    "        print(f\"'{target}' is found in the following text:\\n\")\n",
    "\n",
    "        audio_texts = os.listdir(\"audio_texts\")\n",
    "\n",
    "        sorted_texts = sorted(\n",
    "            audio_texts, key=lambda t: int(t.split(\"_\")[-1].split(\".\")[0])\n",
    "        )  # sort by file #\n",
    "\n",
    "        for audio_text in sorted_texts:\n",
    "            with open(f\"audio_texts/{audio_text}\", \"r\") as f:\n",
    "                text = f.read()\n",
    "                # Match lower cases\n",
    "                if target in text.lower().split():\n",
    "                    print(f\"{audio_text}: {text}\")\n",
    "                    continue  # Skip further search in text\n",
    "\n",
    "    else:\n",
    "        print(f\"'{key}' does not correspond to any words in the Huffman code\")"
   ]
  },
  {
   "cell_type": "code",
   "execution_count": 50,
   "metadata": {},
   "outputs": [
    {
     "name": "stdout",
     "output_type": "stream",
     "text": [
      "'alice' is found in the following text:\n",
      "\n",
      "text_0.txt: Alice in Wonderland by Lewis Carroll chapter 1 down the rabbit\n",
      "text_1.txt: Alice was beginning to get very tired of sitting by her sister on the bank and of having nothing to do once or twice she had peeped into the book her sister was reading but it had no pictures or conversations in it and what is the use of a book thought Alice without pictures of conversation so she was considering in her own mind as well as she could for the hot day made her feel very sleepy and stupid whether the pleasure of making a daisy chain would be worth the trouble of getting up and picking the daisies when suddenly a white rabbit with pink eyes ran close by her there was nothing so very remarkable in that nor did Alice think it's so very much out of the way to hear the rabbit say to itself oh dear oh dear I shall be late when she thought it over afterwards it occurred to her that she ought to have wondered at this but at the time it all seemed quite natural but when the rabbit actually took a watch out of his waistcoat pocket and looked at it and then hurry dot Alice started to her feet for it flashed across her mind that she had never before seen a rabbit with either a waistcoat pocket or a watch to take out of it and burning with curiosity she ran across the field after it and fortunately was just in time to see it pop down a large rabbit hole under the head\n",
      "text_2.txt: never once considering how in the world she was to get out again the rabbit hole went straight on like a tunnel for some way and then dipped suddenly down so suddenly that Alice had not a moment to think about stopping herself before she found herself falling down a very deep\n",
      "text_4.txt: wow dot Alice to herself after such a fall as this I shall think nothing of tumbling downstairs How brave they all think me at home while I wouldn't say anything about it even if I fell off the top of a house which was very likely true\n",
      "text_5.txt: down down down down down would the fall never come to an end I wonder how many miles I've fallen by this time she said aloud I must be getting somewhere near the center of the earth let me see that would be 4000 me down I think for you see Alice had learned several things of this sort in her lessons in the school room and though this was not a very good opportunity for showing off her knowledge as there was no one to listen to her still it was good practice to say it over yes that's about the right distance but then I wonder what latitude or longitude I've got to Alice had no idea what latitude was or longitude either but thought they were nice Grande words to say\n",
      "text_7.txt: she was rather glad there was no one listening this time as it didn't sound at all the right word but I shall have to ask them what the name of the country is you know please ma'am is this New Zealand or Australia and she tried to curtsy as she spoke fancy curtsying as you're falling through the air do you think you could manage it and what an ignorant little girl she'll think me for asking know it'll never do to ask perhaps I shall see it written up somewhere down down down down down down down down down down there was nothing else to do so Allison began talking again Dino miss me very much tonight I should think Diana was the cat I hope they'll remember her saucer of milk at tea time Dynamite my dear I wish you were down here with me there are no mice in the air I'm afraid but you might catch a bat and that's very like a mouse you know but do cats eat bats I wonder and hear Alice begin to get rather sleepy and went on saying to her herself in a dreamy sort of way to Katie and sometimes do bats eat cats for you see as she couldn't answer either question it didn't matter which way she put it she felt that she was dozing off and had just begun to dream that she was walking hand-in-hand with Dinah and saying to her very earnestly now tell me the truth did you ever eat a bat when suddenly thump down She Came Upon a heap of sticks and dry leaves and the fall was over\n",
      "text_8.txt: Alice was not a bit hurt and she jumped up on her feet in a moment she looked up but it was all dark overhead before her was another long passage and the White Rabbit was still inside hurrying down it there was not a moment to be lost a way went Alice like the wind and was just in time to hear it say as it turned a corner oh my ears and whiskers how late is getting she was close behind it when she turned the corner but the rabbit was no longer to be seen she found herself in a Long Road Home which was lit up by a roll of lamps hanging from the roof\n",
      "text_9.txt: there were doors all around the hall but they were all locked and when Alice had been all the way down one side and up the other trying every door she walked sadly down the middle wondering how she was ever to get out again suddenly She Came Upon a little three-legged table all made of solid glass there was nothing on it except a tiny golden key and Alice's first thought was that it might be long to one of the doors of the hall but alas either the locks were too large or the key was too small but at any rate it would not open any of them however on the second time around She Came Upon a low curtain she had not notice before and behind it was a little door about 15 inches high she tried the little golden\n",
      "text_10.txt: Alice open the door and found that it led into a small passage not much larger than a rat hole she knelt down and looked along the passage into the loveliest Garden you ever saw how she longed to get out of that dark Hall and wander about among those beds of bright flowers and those cool fountains but she could not even get her head through the doorway and even if my head would go through dot it would be a very little use with that my shoulders oh how I wish I could shut up like a telescope I think I could if I only know how to begin for you see so many out of the way things have happened lately that Alice had begun to think that very few things in deed were really impossible\n",
      "text_11.txt: there seemed to be no use in waiting by the little door so she went back to the table half hoping she might find another key on it or at any rate a book of rules for shutting people up like telescopes this time she found a little bottle on it which certainly was not here before said Alice and round the neck of the bottle was a paper label with the words drink me beautifully printed on it in large letters\n",
      "text_12.txt: it was all very well to say drink me but the little wise Alice was not going to do that in a hurry no I'll look first she said and see whether it's marked poison or not for she had read several nice little histories about children who had got burnt and eaten up by wild beasts and other unpleasant things all because they would not remember the simple rules their friends had taught them such as that a red hot poker will burn you if you hold it too long and that if you cut your finger very deeply with a knife it usually bleeds and she had never forgotten that if you drink much from a bottle marked poison it is almost certain to disagree with you sooner or later however this bottle was not marked poison so Alice ventured to taste it and finding it very nice it had in fact a sort of mixed flavor of cherry custard pineapple roast turkey and hot buttered toast she very soon finish it off\n",
      "text_13.txt: what are curious feelings that Alice I must be shutting up like a Telus\n",
      "text_14.txt: and so it was indeed she was now only 10 inches high and her face brightened up at the thought that she was now the right size for going through the little door into that lovely Garden first however she waited for a few minutes to see if she was going to shrink any further she felt a little nervous about this before it might end you know said Alice to herself in my going out all together like a candle I wonder what I should be like then and she tried to fancy what the flame of a candle is like after the candle is blown out for she could not remember ever having seen such a thing\n",
      "text_15.txt: after a while finding that nothing more happened she decided on going into the garden at once but the last four Alice when she got to the door she found she had forgotten the little golden key and when she went back to the table for it she found she could not possibly reach it she could see it quite plainly through the glass and she tried her best to climb up one of the legs of the table but it was too slippery and when she had tired herself out with trying the poor little thing sat down and cried\n",
      "text_16.txt: come on there's no use in crying like that said Alice to herself rather sharply I advise you to leave off this minute she generally gave herself very good advice though she very seldom followed it and sometimes she scolded herself so severely as to bring tears into her eyes and once she remembered trying to box her own ears for having cheated herself in a game of croquet she was playing against herself for this curious child was very fond of pretending to be two people\n",
      "text_17.txt: but it's no use now that poor Alice to pretend to be two people why there's hardly enough of me left to make one respectable person\n",
      "text_19.txt: and if it makes me grow larger I can reach the key and if it makes me grow smaller I can creep under the door so either way I'll get into the garden and I don't care which happens she ate a little bit and said anxiously to herself which way which way holding her hand on the top of her head to feel which way it was growing and she was quite surprised to find that she remained the same size to be sure this generally happens when one eats cake but Alice had got so much into the way of expecting nothing but out of the way things to happen but it seemed quite dull and stupid for life to go on in the common way so she set to work and very soon finish off the\n"
     ]
    }
   ],
   "source": [
    "key = input(\"Enter the code/bits to select a word: \")\n",
    "\n",
    "if key.isnumeric():\n",
    "    find_by_bits(key)\n",
    "else:\n",
    "    print(\"Invalid input. Try again\")"
   ]
  }
 ],
 "metadata": {
  "kernelspec": {
   "display_name": "venv",
   "language": "python",
   "name": "python3"
  },
  "language_info": {
   "codemirror_mode": {
    "name": "ipython",
    "version": 3
   },
   "file_extension": ".py",
   "mimetype": "text/x-python",
   "name": "python",
   "nbconvert_exporter": "python",
   "pygments_lexer": "ipython3",
   "version": "3.10.4"
  }
 },
 "nbformat": 4,
 "nbformat_minor": 2
}
